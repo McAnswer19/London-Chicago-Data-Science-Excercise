{
 "cells": [
  {
   "cell_type": "markdown",
   "metadata": {},
   "source": [
    "## Introductory section\n",
    "\n",
    "For my project, I decided to look at crime data across two major cities: Chicago and London. The reason for this was for personal curiosity (as I have been to both cities) as well as the challenge of comparing crime rates with two datasets that were created completely independently of each other by two different governments. \n",
    "\n",
    "The london dataset was acquired from Kaggle (https://www.kaggle.com/jboysen/london-crime) and the Chicago dataset was acquired from data.world (https://data.world/publicsafety/chicago-crime). Both datasets were in the public domain and are free to use by anyone. \n",
    "\n",
    "\n",
    "The goal of the project is to gain some basic insights into how crime varies across the two cities, as well as to get some practice in cleaning and manipulating data.\n"
   ]
  },
  {
   "cell_type": "code",
   "execution_count": 1,
   "metadata": {
    "ExecuteTime": {
     "end_time": "2020-10-11T15:38:15.065656Z",
     "start_time": "2020-10-11T15:38:14.115031Z"
    }
   },
   "outputs": [],
   "source": [
    "import pandas as pd\n",
    "import numpy as np\n",
    "import seaborn as sb\n",
    "import matplotlib.pyplot as plt"
   ]
  },
  {
   "cell_type": "markdown",
   "metadata": {},
   "source": [
    "### Getting the data\n",
    "\n",
    "The data is not initially in a useable format. The Chicago data is in the form of three files, one for 2014, one for 2015, and one for 2016. The London dataset also covers the years 2008 - 2016 in a single file, and we want to pare that down to 2014 - 2016 for the sake of easier comparisons between the two cities.\n",
    "\n",
    "\n",
    "For comparing the two cities, we also need population data. This was trickier, but I was able to copy/paste the data from the internet. The London population data came from (https://data.london.gov.uk/dataset/london-borough-profiles) and the Chicago data came from (http://www.rtams.org/rtams/chicagoWards.jsp) . The year the data was collected was slightly off (Chicago is 2010, and London is 2017) but it is close enough for our purposes.\n",
    "\n",
    "The top cell contains code to actually get the fully-cleaned data  The cells in the section <b> Cleaning Pipeline </b> show all of the steps it took to clean the data, and can be freely skipped over for demonstration purposes. The actual graphing/investigative portion begins in the section entitled <b> Extracting Insights </b>. \n",
    "\n",
    "Needless to say, cleaning the data is an incredibly important step, and should never be overlooked in any project."
   ]
  },
  {
   "cell_type": "markdown",
   "metadata": {},
   "source": [
    "## Importing the cleaned data"
   ]
  },
  {
   "cell_type": "code",
   "execution_count": 2,
   "metadata": {
    "ExecuteTime": {
     "end_time": "2020-10-11T15:38:23.645543Z",
     "start_time": "2020-10-11T15:38:17.827697Z"
    }
   },
   "outputs": [
    {
     "name": "stdout",
     "output_type": "stream",
     "text": [
      "2693441\n",
      "8835400\n"
     ]
    }
   ],
   "source": [
    "# getting the actual crime tables, already cleaned. Uncomment these lines out if wanted. \n",
    "# london_table = pd.read_csv(\"cleaned_data/london_crime_table_2014-2016.xlsx\")\n",
    "# chicago_table = pd.read_csv(\"cleaned_data/chicago_crime_table_2014-2016.xlsx\")\n",
    "\n",
    "\n",
    "# An alternate options for getting the the working samples instead of the full tables. \n",
    "# Comment or Uncomment to use.\n",
    "london_table = pd.read_excel(\"cleaned_data/london_working_sample_2014-2016.xlsx\")\n",
    "chicago_table = pd.read_excel(\"cleaned_data/chicago_working_sample_2014-2016.xlsx\")\n",
    "\n",
    "\n",
    "# Getting the population tables for each city. \n",
    "chicago_population_table = pd.read_excel(\"cleaned_data/Population_workbook.xlsx\", \n",
    "                                         sheet_name= \"Sheet1\")\n",
    "\n",
    "london_population_table = pd.read_excel(\"cleaned_data/Population_workbook.xlsx\", \n",
    "                                        sheet_name= \"Sheet2\")\n",
    "\n",
    "\n",
    "# Converting string to datetime. More on this later.\n",
    "chicago_table[\"Date\"] = pd.to_datetime(chicago_table[\"Date\"])\n",
    "\n",
    "# Scrambles the rows, just to be on the safe side.\n",
    "chicago_table = chicago_table.sample(frac= 1)\n",
    "london_table = london_table.sample(frac = 1)\n",
    "\n",
    "# Printing the collective populations, as a sanity check. Should match the numbers from Wikipedia.\n",
    "print(np.sum(chicago_population_table[\"2010_Population\"]))\n",
    "print(np.sum(london_population_table[\"Population\"]))"
   ]
  },
  {
   "cell_type": "markdown",
   "metadata": {},
   "source": [
    "# Cleaning Pipeline"
   ]
  },
  {
   "cell_type": "markdown",
   "metadata": {},
   "source": [
    "### Getting the data."
   ]
  },
  {
   "cell_type": "code",
   "execution_count": 3,
   "metadata": {
    "ExecuteTime": {
     "end_time": "2020-10-11T15:40:52.305772Z",
     "start_time": "2020-10-11T15:40:52.283831Z"
    }
   },
   "outputs": [],
   "source": [
    "# Getting the population tables\n",
    "chicago_population_table = pd.read_excel(\"original_data/Population_workbook.xlsx\", sheet_name= \"Sheet1\")\n",
    "london_population_table = pd.read_excel(\"original_data/Population_workbook.xlsx\", sheet_name= \"Sheet2\")\n",
    "\n",
    "chicago_population_table[\"2010 Population\"] = chicago_population_table[\"2010 Population\"].replace(\",\", \"\").apply(np.int)\n"
   ]
  },
  {
   "cell_type": "code",
   "execution_count": 4,
   "metadata": {
    "ExecuteTime": {
     "end_time": "2020-10-11T15:41:03.317388Z",
     "start_time": "2020-10-11T15:40:53.107841Z"
    }
   },
   "outputs": [],
   "source": [
    "# Getting the actual crime tables. \n",
    "london_table = pd.read_csv(\"original_data/london_crime_by_lsoa.csv\")\n",
    "\n",
    "chicago_2014_table = pd.read_csv(\"original_data/chicago_crime_2014.csv\")\n",
    "chicago_2015_table = pd.read_csv(\"original_data/chicago_crime_2015.csv\")\n",
    "chicago_2016_table = pd.read_csv(\"original_data/chicago_crime_2016.csv\")\n",
    "\n",
    "# Adding the year for each table as a new column\n",
    "chicago_2014_table[\"Year\"] = 2014\n",
    "chicago_2015_table[\"Year\"] = 2015\n",
    "chicago_2016_table[\"Year\"] = 2016\n",
    "\n",
    "# filtering the london table to get only the years 2014, 2015, and 2016. \n",
    "london_table = london_table[np.logical_and(london_table[\"year\"] <= 2016, london_table[\"year\"] >= 2014)]\n",
    "\n",
    "# joining all the chicago tables together into a single table.\n",
    "chicago_table = pd.concat([chicago_2014_table, chicago_2015_table, chicago_2016_table])\n",
    "chicago_table.reset_index()\n",
    "\n",
    "# Getting rid of the subtables we no longer need. \n",
    "del chicago_2014_table,  chicago_2015_table, chicago_2016_table"
   ]
  },
  {
   "cell_type": "markdown",
   "metadata": {},
   "source": [
    "### Changing the column names. \n",
    "\n",
    "For the sake of consistency, we have decided to capitalize all column names and substitute all whitespace with underscores for every table."
   ]
  },
  {
   "cell_type": "code",
   "execution_count": 5,
   "metadata": {
    "ExecuteTime": {
     "end_time": "2020-10-11T15:41:25.003748Z",
     "start_time": "2020-10-11T15:41:24.994770Z"
    }
   },
   "outputs": [],
   "source": [
    "# Managing the column names, all four tables. \n",
    "new_columns_list = [col.title().replace(\" \", \"_\") for col in london_table.columns]\n",
    "london_table.columns = new_columns_list\n",
    "    \n",
    "new_columns_list = [col.title().replace(\" \", \"_\") for col in chicago_table.columns]\n",
    "chicago_table.columns = new_columns_list\n",
    "\n",
    "new_columns_list = [col.title().replace(\" \", \"_\") for col in london_population_table.columns]\n",
    "london_population_table.columns = new_columns_list\n",
    "\n",
    "new_columns_list = [col.title().replace(\" \", \"_\") for col in chicago_population_table.columns]\n",
    "chicago_population_table.columns = new_columns_list\n",
    "\n",
    "\n",
    "del new_columns_list # No longer needed."
   ]
  },
  {
   "cell_type": "markdown",
   "metadata": {},
   "source": [
    "### Exploratory\n",
    "\n",
    "Now, we go through both the chicago and london tables looking for missing values and getting descirptive statistics. This is always a good practice, even if you belieive the data is clean and reliable, as it lets you get a feel for the data."
   ]
  },
  {
   "cell_type": "code",
   "execution_count": 6,
   "metadata": {
    "ExecuteTime": {
     "end_time": "2020-10-11T15:41:29.706707Z",
     "start_time": "2020-10-11T15:41:28.882169Z"
    }
   },
   "outputs": [
    {
     "name": "stdout",
     "output_type": "stream",
     "text": [
      "Lsoa_Code         0\n",
      "Borough           0\n",
      "Major_Category    0\n",
      "Minor_Category    0\n",
      "Value             0\n",
      "Year              0\n",
      "Month             0\n",
      "dtype: int64\n",
      "---------\n"
     ]
    },
    {
     "data": {
      "text/html": [
       "<div>\n",
       "<style scoped>\n",
       "    .dataframe tbody tr th:only-of-type {\n",
       "        vertical-align: middle;\n",
       "    }\n",
       "\n",
       "    .dataframe tbody tr th {\n",
       "        vertical-align: top;\n",
       "    }\n",
       "\n",
       "    .dataframe thead th {\n",
       "        text-align: right;\n",
       "    }\n",
       "</style>\n",
       "<table border=\"1\" class=\"dataframe\">\n",
       "  <thead>\n",
       "    <tr style=\"text-align: right;\">\n",
       "      <th></th>\n",
       "      <th>Value</th>\n",
       "      <th>Year</th>\n",
       "      <th>Month</th>\n",
       "    </tr>\n",
       "  </thead>\n",
       "  <tbody>\n",
       "    <tr>\n",
       "      <td>count</td>\n",
       "      <td>4.496868e+06</td>\n",
       "      <td>4.496868e+06</td>\n",
       "      <td>4.496868e+06</td>\n",
       "    </tr>\n",
       "    <tr>\n",
       "      <td>mean</td>\n",
       "      <td>4.732022e-01</td>\n",
       "      <td>2.015000e+03</td>\n",
       "      <td>6.500000e+00</td>\n",
       "    </tr>\n",
       "    <tr>\n",
       "      <td>std</td>\n",
       "      <td>1.590697e+00</td>\n",
       "      <td>8.164967e-01</td>\n",
       "      <td>3.452053e+00</td>\n",
       "    </tr>\n",
       "    <tr>\n",
       "      <td>min</td>\n",
       "      <td>0.000000e+00</td>\n",
       "      <td>2.014000e+03</td>\n",
       "      <td>1.000000e+00</td>\n",
       "    </tr>\n",
       "    <tr>\n",
       "      <td>25%</td>\n",
       "      <td>0.000000e+00</td>\n",
       "      <td>2.014000e+03</td>\n",
       "      <td>3.750000e+00</td>\n",
       "    </tr>\n",
       "    <tr>\n",
       "      <td>50%</td>\n",
       "      <td>0.000000e+00</td>\n",
       "      <td>2.015000e+03</td>\n",
       "      <td>6.500000e+00</td>\n",
       "    </tr>\n",
       "    <tr>\n",
       "      <td>75%</td>\n",
       "      <td>1.000000e+00</td>\n",
       "      <td>2.016000e+03</td>\n",
       "      <td>9.250000e+00</td>\n",
       "    </tr>\n",
       "    <tr>\n",
       "      <td>max</td>\n",
       "      <td>2.000000e+02</td>\n",
       "      <td>2.016000e+03</td>\n",
       "      <td>1.200000e+01</td>\n",
       "    </tr>\n",
       "  </tbody>\n",
       "</table>\n",
       "</div>"
      ],
      "text/plain": [
       "              Value          Year         Month\n",
       "count  4.496868e+06  4.496868e+06  4.496868e+06\n",
       "mean   4.732022e-01  2.015000e+03  6.500000e+00\n",
       "std    1.590697e+00  8.164967e-01  3.452053e+00\n",
       "min    0.000000e+00  2.014000e+03  1.000000e+00\n",
       "25%    0.000000e+00  2.014000e+03  3.750000e+00\n",
       "50%    0.000000e+00  2.015000e+03  6.500000e+00\n",
       "75%    1.000000e+00  2.016000e+03  9.250000e+00\n",
       "max    2.000000e+02  2.016000e+03  1.200000e+01"
      ]
     },
     "execution_count": 6,
     "metadata": {},
     "output_type": "execute_result"
    }
   ],
   "source": [
    "print(london_table.isna().sum())\n",
    "print(\"---------\")\n",
    "london_table.describe()"
   ]
  },
  {
   "cell_type": "code",
   "execution_count": 7,
   "metadata": {
    "ExecuteTime": {
     "end_time": "2020-10-11T15:41:30.308256Z",
     "start_time": "2020-10-11T15:41:29.930234Z"
    }
   },
   "outputs": [
    {
     "name": "stdout",
     "output_type": "stream",
     "text": [
      "Id                          0\n",
      "Case_Number                 0\n",
      "Date                        0\n",
      "Block                       0\n",
      "Iucr                        0\n",
      "Primary_Type                0\n",
      "Description                 0\n",
      "Location_Description     1018\n",
      "Arrest                      0\n",
      "Domestic                    0\n",
      "Beat                        0\n",
      "District                    0\n",
      "Ward                        4\n",
      "Community_Area              1\n",
      "Fbi_Code                    0\n",
      "Latitude                18881\n",
      "Longitude               18881\n",
      "Year                        0\n",
      "dtype: int64\n",
      "---------\n"
     ]
    },
    {
     "data": {
      "text/html": [
       "<div>\n",
       "<style scoped>\n",
       "    .dataframe tbody tr th:only-of-type {\n",
       "        vertical-align: middle;\n",
       "    }\n",
       "\n",
       "    .dataframe tbody tr th {\n",
       "        vertical-align: top;\n",
       "    }\n",
       "\n",
       "    .dataframe thead th {\n",
       "        text-align: right;\n",
       "    }\n",
       "</style>\n",
       "<table border=\"1\" class=\"dataframe\">\n",
       "  <thead>\n",
       "    <tr style=\"text-align: right;\">\n",
       "      <th></th>\n",
       "      <th>Id</th>\n",
       "      <th>Beat</th>\n",
       "      <th>District</th>\n",
       "      <th>Ward</th>\n",
       "      <th>Community_Area</th>\n",
       "      <th>Latitude</th>\n",
       "      <th>Longitude</th>\n",
       "      <th>Year</th>\n",
       "    </tr>\n",
       "  </thead>\n",
       "  <tbody>\n",
       "    <tr>\n",
       "      <td>count</td>\n",
       "      <td>7.545410e+05</td>\n",
       "      <td>754541.000000</td>\n",
       "      <td>754541.000000</td>\n",
       "      <td>754537.000000</td>\n",
       "      <td>754540.000000</td>\n",
       "      <td>735660.000000</td>\n",
       "      <td>735660.000000</td>\n",
       "      <td>754541.000000</td>\n",
       "    </tr>\n",
       "    <tr>\n",
       "      <td>mean</td>\n",
       "      <td>1.007729e+07</td>\n",
       "      <td>1143.947323</td>\n",
       "      <td>11.210401</td>\n",
       "      <td>22.848897</td>\n",
       "      <td>37.404376</td>\n",
       "      <td>41.841643</td>\n",
       "      <td>-87.672377</td>\n",
       "      <td>2014.924281</td>\n",
       "    </tr>\n",
       "    <tr>\n",
       "      <td>std</td>\n",
       "      <td>5.825633e+05</td>\n",
       "      <td>689.856629</td>\n",
       "      <td>6.891652</td>\n",
       "      <td>13.809530</td>\n",
       "      <td>21.378246</td>\n",
       "      <td>0.094159</td>\n",
       "      <td>0.066874</td>\n",
       "      <td>0.803703</td>\n",
       "    </tr>\n",
       "    <tr>\n",
       "      <td>min</td>\n",
       "      <td>2.121200e+04</td>\n",
       "      <td>111.000000</td>\n",
       "      <td>1.000000</td>\n",
       "      <td>1.000000</td>\n",
       "      <td>0.000000</td>\n",
       "      <td>36.619446</td>\n",
       "      <td>-91.686566</td>\n",
       "      <td>2014.000000</td>\n",
       "    </tr>\n",
       "    <tr>\n",
       "      <td>25%</td>\n",
       "      <td>9.769778e+06</td>\n",
       "      <td>612.000000</td>\n",
       "      <td>6.000000</td>\n",
       "      <td>10.000000</td>\n",
       "      <td>23.000000</td>\n",
       "      <td>41.767903</td>\n",
       "      <td>-87.715579</td>\n",
       "      <td>2014.000000</td>\n",
       "    </tr>\n",
       "    <tr>\n",
       "      <td>50%</td>\n",
       "      <td>1.009958e+07</td>\n",
       "      <td>1024.000000</td>\n",
       "      <td>10.000000</td>\n",
       "      <td>23.000000</td>\n",
       "      <td>32.000000</td>\n",
       "      <td>41.858595</td>\n",
       "      <td>-87.666147</td>\n",
       "      <td>2015.000000</td>\n",
       "    </tr>\n",
       "    <tr>\n",
       "      <td>75%</td>\n",
       "      <td>1.041973e+07</td>\n",
       "      <td>1654.000000</td>\n",
       "      <td>16.000000</td>\n",
       "      <td>34.000000</td>\n",
       "      <td>56.000000</td>\n",
       "      <td>41.904433</td>\n",
       "      <td>-87.628109</td>\n",
       "      <td>2016.000000</td>\n",
       "    </tr>\n",
       "    <tr>\n",
       "      <td>max</td>\n",
       "      <td>1.073638e+07</td>\n",
       "      <td>2535.000000</td>\n",
       "      <td>31.000000</td>\n",
       "      <td>50.000000</td>\n",
       "      <td>77.000000</td>\n",
       "      <td>42.022671</td>\n",
       "      <td>-87.524529</td>\n",
       "      <td>2016.000000</td>\n",
       "    </tr>\n",
       "  </tbody>\n",
       "</table>\n",
       "</div>"
      ],
      "text/plain": [
       "                 Id           Beat       District           Ward  \\\n",
       "count  7.545410e+05  754541.000000  754541.000000  754537.000000   \n",
       "mean   1.007729e+07    1143.947323      11.210401      22.848897   \n",
       "std    5.825633e+05     689.856629       6.891652      13.809530   \n",
       "min    2.121200e+04     111.000000       1.000000       1.000000   \n",
       "25%    9.769778e+06     612.000000       6.000000      10.000000   \n",
       "50%    1.009958e+07    1024.000000      10.000000      23.000000   \n",
       "75%    1.041973e+07    1654.000000      16.000000      34.000000   \n",
       "max    1.073638e+07    2535.000000      31.000000      50.000000   \n",
       "\n",
       "       Community_Area       Latitude      Longitude           Year  \n",
       "count   754540.000000  735660.000000  735660.000000  754541.000000  \n",
       "mean        37.404376      41.841643     -87.672377    2014.924281  \n",
       "std         21.378246       0.094159       0.066874       0.803703  \n",
       "min          0.000000      36.619446     -91.686566    2014.000000  \n",
       "25%         23.000000      41.767903     -87.715579    2014.000000  \n",
       "50%         32.000000      41.858595     -87.666147    2015.000000  \n",
       "75%         56.000000      41.904433     -87.628109    2016.000000  \n",
       "max         77.000000      42.022671     -87.524529    2016.000000  "
      ]
     },
     "execution_count": 7,
     "metadata": {},
     "output_type": "execute_result"
    }
   ],
   "source": [
    "print(chicago_table.isna().sum())\n",
    "print(\"---------\")\n",
    "chicago_table.describe()"
   ]
  },
  {
   "cell_type": "markdown",
   "metadata": {},
   "source": [
    "Lat and longitude seem weird. Some of the values are well outside of chicago. To isolate them, we will get a better\n",
    "sense of the range of those values and then look manually for what some better replacement values might be."
   ]
  },
  {
   "cell_type": "code",
   "execution_count": 8,
   "metadata": {
    "ExecuteTime": {
     "end_time": "2020-10-11T15:41:58.218468Z",
     "start_time": "2020-10-11T15:41:57.418986Z"
    }
   },
   "outputs": [
    {
     "name": "stdout",
     "output_type": "stream",
     "text": [
      "[36.61944639 41.64458971 41.6446041  ... 42.02257505 42.02267125\n",
      "         nan]\n",
      "[-91.68656568 -87.9343243  -87.92890944 ... -87.52452947 -87.52452938\n",
      "          nan]\n"
     ]
    }
   ],
   "source": [
    "# Looking at the unique lat and long\n",
    "uniqe_lats = chicago_table.sort_values([\"Latitude\"], ascending= True)[\"Latitude\"].unique()\n",
    "uniqe_longs = chicago_table.sort_values([\"Longitude\"], ascending= True)[\"Longitude\"].unique()\n",
    "print(uniqe_lats)\n",
    "print(uniqe_longs)"
   ]
  },
  {
   "cell_type": "markdown",
   "metadata": {},
   "source": [
    "Here we actually fill in the nan values and generally clean the data."
   ]
  },
  {
   "cell_type": "code",
   "execution_count": 9,
   "metadata": {
    "ExecuteTime": {
     "end_time": "2020-10-11T15:45:10.907212Z",
     "start_time": "2020-10-11T15:45:10.498769Z"
    }
   },
   "outputs": [],
   "source": [
    "# 999 as a sentinal value. Indicates that the data is missing, but still allows for some operations. \n",
    "# We just have to exclude all values with 999 to get accuracte results.\n",
    "\n",
    "chicago_table[\"Latitude\"].fillna(999, inplace = True)\n",
    "chicago_table[\"Longitude\"].fillna(999, inplace = True)\n",
    "\n",
    "# Changing our more extreme lat/long values to something more sensible. \n",
    "chicago_table.loc[chicago_table[\"Latitude\"] < 37, \"Latitude\" ] = 41.64458971 \n",
    "chicago_table.loc[chicago_table[\"Longitude\"] < -90, \"Longitude\" ] = -87.9343243\n",
    "\n",
    "# Fill na for location description.\n",
    "chicago_table[\"Location_Description\"].fillna(\"Location not specified\", inplace = True)\n",
    "\n",
    "# dropping columns where Ward or Community area is missing. Should only be about 4-5 rows, so an acceptable loss.\n",
    "chicago_table = chicago_table[chicago_table[\"Ward\"].isnull() == False]\n",
    "chicago_table = chicago_table[chicago_table[\"Community_Area\"].isnull() == False]\n",
    "              \n",
    "# Then we also change ward to ints, just to be on the safe side.     \n",
    "chicago_table[\"Ward\"] = chicago_table[\"Ward\"].apply(np.int)"
   ]
  },
  {
   "cell_type": "markdown",
   "metadata": {},
   "source": [
    "### Datetime\n",
    "\n",
    "A good thing to do is to convert the chicago table's Date column to a Datetime object. This is a very handy, as these objects have all sorts of convenience features that make working with timeseries data much easier. We might not use it very much, but it is stil a good habit to get into.  "
   ]
  },
  {
   "cell_type": "code",
   "execution_count": 10,
   "metadata": {
    "ExecuteTime": {
     "end_time": "2020-10-11T15:45:43.045844Z",
     "start_time": "2020-10-11T15:45:12.266739Z"
    }
   },
   "outputs": [],
   "source": [
    "chicago_table[\"Date\"] = pd.to_datetime(chicago_table[\"Date\"])"
   ]
  },
  {
   "cell_type": "markdown",
   "metadata": {},
   "source": [
    "### Final Touches\n",
    "\n",
    "Now we are going to save all our cleaned files into the cleaned_data directory. We also going to create working samples of both our chicago and london tables. Just eyeballing it, the chicago table takes about 180 bytes per row and the london table takes about 68 bytes per row, so this gives us an idea of how many rows we should sample to stay under 10 megabytes."
   ]
  },
  {
   "cell_type": "code",
   "execution_count": 14,
   "metadata": {
    "ExecuteTime": {
     "end_time": "2020-10-11T16:04:30.013671Z",
     "start_time": "2020-10-11T16:02:50.952025Z"
    }
   },
   "outputs": [],
   "source": [
    "# Fixing our random seed, for reproducibility.\n",
    "np.random.seed(19)\n",
    "\n",
    "london_working_sample = london_table.sample(70000 )\n",
    "chicago_working_sample = chicago_table.sample(25000)\n",
    "\n",
    "# writing london to disk\n",
    "london_table.to_csv(\"cleaned_data/london_crime_table_2014-2016.csv\", index = False)\n",
    "with pd.ExcelWriter(\"cleaned_data/london_working_sample_2014-2016.xlsx\", engine='xlsxwriter') as writer:  \n",
    "    london_working_sample.to_excel(writer, index= False)\n",
    "    \n",
    "# writing Chicago to disk. \n",
    "chicago_table.to_csv(\"cleaned_data/chicago_crime_table_2014-2016.csv\", index = False)\n",
    "with pd.ExcelWriter(\"cleaned_data/chicago_working_sample_2014-2016.xlsx\", engine='xlsxwriter') as writer:  \n",
    "    chicago_working_sample.to_excel(writer, index= False)\n",
    "    \n",
    "    \n",
    "\n",
    "# And then writing the population tables to disk.\n",
    "with pd.ExcelWriter(\"cleaned_data/Population_workbook.xlsx\", engine='xlsxwriter') as writer: \n",
    "    \n",
    "    # Write each dataframe to a different worksheet.\n",
    "    chicago_population_table.to_excel(writer, sheet_name='Sheet1', index= False)\n",
    "    london_population_table.to_excel(writer, sheet_name='Sheet2', index = False)\n",
    "    \n",
    "chicago_table.reset_index(inplace= True)\n",
    "london_table.reset_index(inplace = True)\n"
   ]
  },
  {
   "cell_type": "markdown",
   "metadata": {},
   "source": [
    "# Extracting Insights"
   ]
  },
  {
   "cell_type": "markdown",
   "metadata": {},
   "source": [
    "Now that the data is cleaned, we can start getting some insights. \n",
    "\n",
    "A big hurdle is that while the datasets are broadly comparable, the UK and US have completely different legal systems \n",
    "and reporting systems for crime. Thus, not all the columns are the same. Chicago's crimes are coded based on the Illinois Uniform Crime Reporting codes (IUCR, more information here http://directives.chicagopolice.org/forms/CPD-63.451_Table.pdf) wheras the London data is based on the London Metropolitan Police (more information here: https://www.met.police.uk/sd/stats-and-data/). This poses a bit of a problem for direct comparisons.\n",
    "\n",
    "The main points of comparison are between Chicago's wards (50 in total) versus London's boroughs (33 in total), which can give us some information on how crime differs by district/neighborhood. Crimes are reported in Chicago based on the columns <b> \"Primary_Type\" </b> and <b> \"Discription\" </b> whereas in London the most relevant columns are <b> \"Major_Category\" </b> and <b> \"Minor_Category\" </b>. In Chiago, a simple bicycle theft would be recored as <b> \"Theft\"/\"\"$500 AND UNDER\" </b>   whereas in London it would be recorded as <b>\"Theft and Handling\tTheft\"/\"Taking of Pedal Cycle\" </b> \n",
    "\n",
    "Needless to say, this makes comparing exact crimes very difficult, if not impossible. We can still look at broad categories, though, and that is good enough for our purposes."
   ]
  },
  {
   "cell_type": "markdown",
   "metadata": {},
   "source": [
    "First, we will go through every column and look at a histogram of values. For speed, we will only look at the first 20,000 records of each one. This is generally a good practice to get a feel for the data."
   ]
  },
  {
   "cell_type": "code",
   "execution_count": 15,
   "metadata": {
    "ExecuteTime": {
     "end_time": "2020-10-11T16:05:12.005416Z",
     "start_time": "2020-10-11T16:05:10.027245Z"
    }
   },
   "outputs": [
    {
     "name": "stdout",
     "output_type": "stream",
     "text": [
      "Chicago -------------------- \n",
      "\n",
      "index\n"
     ]
    },
    {
     "data": {
      "image/png": "[encoded data removed]",
      "text/plain": [
       "<Figure size 432x288 with 1 Axes>"
      ]
     },
     "metadata": {
      "needs_background": "light"
     },
     "output_type": "display_data"
    },
    {
     "name": "stdout",
     "output_type": "stream",
     "text": [
      "\n",
      "\n",
      "Id\n"
     ]
    },
    {
     "data": {
      "image/png": "[encoded data removed]",
      "text/plain": [
       "<Figure size 432x288 with 1 Axes>"
      ]
     },
     "metadata": {
      "needs_background": "light"
     },
     "output_type": "display_data"
    },
    {
     "name": "stdout",
     "output_type": "stream",
     "text": [
      "\n",
      "\n",
      "Case_Number\n",
      "could not display Case_Number\n",
      "\n",
      "\n",
      "Date\n"
     ]
    },
    {
     "name": "stderr",
     "output_type": "stream",
     "text": [
      "C:\\Users\\Jack\\AppData\\Local\\Continuum\\anaconda3\\envs\\tf_clone\\lib\\site-packages\\pandas\\plotting\\_matplotlib\\converter.py:103: FutureWarning: Using an implicitly registered datetime converter for a matplotlib plotting method. The converter was registered by pandas on import. Future versions of pandas will require you to explicitly register matplotlib converters.\n",
      "\n",
      "To register the converters:\n",
      "\t>>> from pandas.plotting import register_matplotlib_converters\n",
      "\t>>> register_matplotlib_converters()\n",
      "  warnings.warn(msg, FutureWarning)\n"
     ]
    },
    {
     "data": {
      "image/png": "[encoded data removed]",
      "text/plain": [
       "<Figure size 432x288 with 1 Axes>"
      ]
     },
     "metadata": {
      "needs_background": "light"
     },
     "output_type": "display_data"
    },
    {
     "name": "stdout",
     "output_type": "stream",
     "text": [
      "\n",
      "\n",
      "Block\n",
      "could not display Block\n",
      "\n",
      "\n",
      "Iucr\n",
      "could not display Iucr\n",
      "\n",
      "\n",
      "Primary_Type\n",
      "could not display Primary_Type\n",
      "\n",
      "\n",
      "Description\n",
      "could not display Description\n",
      "\n",
      "\n",
      "Location_Description\n",
      "could not display Location_Description\n",
      "\n",
      "\n",
      "Arrest\n"
     ]
    },
    {
     "data": {
      "image/png": "[encoded data removed]",
      "text/plain": [
       "<Figure size 432x288 with 1 Axes>"
      ]
     },
     "metadata": {
      "needs_background": "light"
     },
     "output_type": "display_data"
    },
    {
     "name": "stdout",
     "output_type": "stream",
     "text": [
      "\n",
      "\n",
      "Domestic\n"
     ]
    },
    {
     "data": {
      "image/png": "[encoded data removed]",
      "text/plain": [
       "<Figure size 432x288 with 1 Axes>"
      ]
     },
     "metadata": {
      "needs_background": "light"
     },
     "output_type": "display_data"
    },
    {
     "name": "stdout",
     "output_type": "stream",
     "text": [
      "\n",
      "\n",
      "Beat\n"
     ]
    },
    {
     "data": {
      "image/png": "[encoded data removed]",
      "text/plain": [
       "<Figure size 432x288 with 1 Axes>"
      ]
     },
     "metadata": {
      "needs_background": "light"
     },
     "output_type": "display_data"
    },
    {
     "name": "stdout",
     "output_type": "stream",
     "text": [
      "\n",
      "\n",
      "District\n"
     ]
    },
    {
     "data": {
      "image/png": "[encoded data removed]",
      "text/plain": [
       "<Figure size 432x288 with 1 Axes>"
      ]
     },
     "metadata": {
      "needs_background": "light"
     },
     "output_type": "display_data"
    },
    {
     "name": "stdout",
     "output_type": "stream",
     "text": [
      "\n",
      "\n",
      "Ward\n"
     ]
    },
    {
     "data": {
      "image/png": "[encoded data removed]",
      "text/plain": [
       "<Figure size 432x288 with 1 Axes>"
      ]
     },
     "metadata": {
      "needs_background": "light"
     },
     "output_type": "display_data"
    },
    {
     "name": "stdout",
     "output_type": "stream",
     "text": [
      "\n",
      "\n",
      "Community_Area\n"
     ]
    },
    {
     "data": {
      "image/png": "[encoded data removed]",
      "text/plain": [
       "<Figure size 432x288 with 1 Axes>"
      ]
     },
     "metadata": {
      "needs_background": "light"
     },
     "output_type": "display_data"
    },
    {
     "name": "stdout",
     "output_type": "stream",
     "text": [
      "\n",
      "\n",
      "Fbi_Code\n",
      "could not display Fbi_Code\n",
      "\n",
      "\n",
      "Latitude\n"
     ]
    },
    {
     "data": {
      "image/png": "[encoded data removed]",
      "text/plain": [
       "<Figure size 432x288 with 1 Axes>"
      ]
     },
     "metadata": {
      "needs_background": "light"
     },
     "output_type": "display_data"
    },
    {
     "name": "stdout",
     "output_type": "stream",
     "text": [
      "\n",
      "\n",
      "Longitude\n"
     ]
    },
    {
     "data": {
      "image/png": "[encoded data removed]",
      "text/plain": [
       "<Figure size 432x288 with 1 Axes>"
      ]
     },
     "metadata": {
      "needs_background": "light"
     },
     "output_type": "display_data"
    },
    {
     "name": "stdout",
     "output_type": "stream",
     "text": [
      "\n",
      "\n",
      "Year\n"
     ]
    },
    {
     "data": {
      "image/png": "[encoded data removed]",
      "text/plain": [
       "<Figure size 432x288 with 1 Axes>"
      ]
     },
     "metadata": {
      "needs_background": "light"
     },
     "output_type": "display_data"
    },
    {
     "name": "stdout",
     "output_type": "stream",
     "text": [
      "\n",
      "\n",
      "London -------------------- \n",
      "\n",
      "index\n"
     ]
    },
    {
     "data": {
      "image/png": "[encoded data removed]",
      "text/plain": [
       "<Figure size 432x288 with 1 Axes>"
      ]
     },
     "metadata": {
      "needs_background": "light"
     },
     "output_type": "display_data"
    },
    {
     "name": "stdout",
     "output_type": "stream",
     "text": [
      "\n",
      "\n",
      "Lsoa_Code\n",
      "could not display Lsoa_Code\n",
      "\n",
      "\n",
      "Borough\n",
      "could not display Borough\n",
      "\n",
      "\n",
      "Major_Category\n",
      "could not display Major_Category\n",
      "\n",
      "\n",
      "Minor_Category\n",
      "could not display Minor_Category\n",
      "\n",
      "\n",
      "Value\n"
     ]
    },
    {
     "data": {
      "image/png": "[encoded data removed]",
      "text/plain": [
       "<Figure size 432x288 with 1 Axes>"
      ]
     },
     "metadata": {
      "needs_background": "light"
     },
     "output_type": "display_data"
    },
    {
     "name": "stdout",
     "output_type": "stream",
     "text": [
      "\n",
      "\n",
      "Year\n"
     ]
    },
    {
     "data": {
      "image/png": "[encoded data removed]",
      "text/plain": [
       "<Figure size 432x288 with 1 Axes>"
      ]
     },
     "metadata": {
      "needs_background": "light"
     },
     "output_type": "display_data"
    },
    {
     "name": "stdout",
     "output_type": "stream",
     "text": [
      "\n",
      "\n",
      "Month\n"
     ]
    },
    {
     "data": {
      "image/png": "[encoded data removed]",
      "text/plain": [
       "<Figure size 432x288 with 1 Axes>"
      ]
     },
     "metadata": {
      "needs_background": "light"
     },
     "output_type": "display_data"
    },
    {
     "name": "stdout",
     "output_type": "stream",
     "text": [
      "\n",
      "\n"
     ]
    }
   ],
   "source": [
    "print(\"Chicago -------------------- \\n\")       \n",
    "for column in chicago_table.columns:\n",
    "    try: \n",
    "        print(column)\n",
    "        assert chicago_table[column].dtype != \"object\"\n",
    "        plt.hist(chicago_table[column])\n",
    "        plt.show()\n",
    "        print(\"\\n\")\n",
    "    except: \n",
    "        print(\"could not display {}\".format(column))\n",
    "        print(\"\\n\")\n",
    "        \n",
    "print(\"London -------------------- \\n\")       \n",
    "for column in london_table.columns:\n",
    "    try: \n",
    "        print(column)\n",
    "        assert london_table[column].dtype != \"object\"\n",
    "        plt.hist(london_table[column])\n",
    "        plt.show()\n",
    "        print(\"\\n\")\n",
    "    except: \n",
    "        print(\"could not display {}\".format(column))\n",
    "        print(\"\\n\")"
   ]
  },
  {
   "cell_type": "markdown",
   "metadata": {},
   "source": [
    "Overall, it looks like there is only a little weirdness. In Chicago, the average crime does not result in an arrest, most crimes are not domestic, and crimes seem to be mostly randomly distributed across all 50 wards (although, we haven't corrected for population yet...)\n",
    "\n",
    "\n",
    "\n",
    "In London, the only weird point the month distribution, but this seems to a result of rounding errors, as calling .value_counts() on the relevant column shows that months are evenly distributed."
   ]
  },
  {
   "cell_type": "markdown",
   "metadata": {},
   "source": [
    "Next, we will look at how the crime categories are distributed for both London and Chicago. "
   ]
  },
  {
   "cell_type": "code",
   "execution_count": 8,
   "metadata": {},
   "outputs": [
    {
     "name": "stdout",
     "output_type": "stream",
     "text": [
      "Chicago \n",
      "\n",
      "THEFT                                0.223187\n",
      "BATTERY                              0.185925\n",
      "CRIMINAL DAMAGE                      0.108724\n",
      "NARCOTICS                            0.083751\n",
      "ASSAULT                              0.065693\n",
      "OTHER OFFENSE                        0.064222\n",
      "DECEPTIVE PRACTICE                   0.058482\n",
      "BURGLARY                             0.051675\n",
      "MOTOR VEHICLE THEFT                  0.038459\n",
      "ROBBERY                              0.038282\n",
      "CRIMINAL TRESPASS                    0.025418\n",
      "WEAPONS VIOLATION                    0.012328\n",
      "PUBLIC PEACE VIOLATION               0.008848\n",
      "OFFENSE INVOLVING CHILDREN           0.008563\n",
      "CRIM SEXUAL ASSAULT                  0.005083\n",
      "PROSTITUTION                         0.004853\n",
      "INTERFERENCE WITH PUBLIC OFFICER     0.004608\n",
      "SEX OFFENSE                          0.003528\n",
      "HOMICIDE                             0.002009\n",
      "ARSON                                0.001702\n",
      "LIQUOR LAW VIOLATION                 0.001177\n",
      "GAMBLING                             0.001173\n",
      "KIDNAPPING                           0.000785\n",
      "STALKING                             0.000561\n",
      "INTIMIDATION                         0.000455\n",
      "OBSCENITY                            0.000160\n",
      "CONCEALED CARRY LICENSE VIOLATION    0.000105\n",
      "NON-CRIMINAL                         0.000093\n",
      "NON - CRIMINAL                       0.000046\n",
      "PUBLIC INDECENCY                     0.000045\n",
      "HUMAN TRAFFICKING                    0.000033\n",
      "OTHER NARCOTIC VIOLATION             0.000024\n",
      "NON-CRIMINAL (SUBJECT SPECIFIED)     0.000003\n",
      "Name: Primary_Type, dtype: float64\n",
      "-------------\n",
      "London \n",
      "\n",
      "Major_Category\n",
      "Burglary                       0.100956\n",
      "Criminal Damage                0.087562\n",
      "Drugs                          0.057866\n",
      "Fraud or Forgery               0.000000\n",
      "Other Notifiable Offences      0.020243\n",
      "Robbery                        0.031045\n",
      "Sexual Offences                0.000000\n",
      "Theft and Handling             0.403226\n",
      "Violence Against the Person    0.299103\n",
      "Name: Value, dtype: float64\n"
     ]
    }
   ],
   "source": [
    "print(\"Chicago \\n\")\n",
    "print(chicago_table[\"Primary_Type\"].value_counts(normalize=True))\n",
    "print(\"-------------\")\n",
    "print(\"London \\n\")\n",
    "\n",
    "# The London table is a condition/count format. So we have to be a little creative to get the normalized counts.\n",
    "print(london_table.groupby(\"Major_Category\").sum()[\"Value\"]/np.sum(london_table[\"Value\"]))"
   ]
  },
  {
   "cell_type": "markdown",
   "metadata": {},
   "source": [
    "They look reasonably similar. Thefts/burglaries are 25- 50% of all crimes, with 5.5 -9% of crimes involving drugs. The hardest categories to compare are violence (because of all the subcategories ), but it looks like it is between 23-25% of all crimes."
   ]
  },
  {
   "cell_type": "markdown",
   "metadata": {},
   "source": [
    "Just for fun, lets see the distribution of arrests vs. Domestic for the chicago dataset. We'll visualize it with the seaborn library. \n"
   ]
  },
  {
   "cell_type": "code",
   "execution_count": 16,
   "metadata": {
    "ExecuteTime": {
     "end_time": "2020-10-11T16:07:20.983487Z",
     "start_time": "2020-10-11T16:07:20.530019Z"
    }
   },
   "outputs": [
    {
     "data": {
      "text/plain": [
       "[Text(0,0,'Neither'),\n",
       " Text(0,0,'Domestic Only'),\n",
       " Text(0,0,'Arrest Only'),\n",
       " Text(0,0,'Both')]"
      ]
     },
     "execution_count": 16,
     "metadata": {},
     "output_type": "execute_result"
    },
    {
     "data": {
      "image/png": "[encoded data removed]",
      "text/plain": [
       "<Figure size 432x288 with 1 Axes>"
      ]
     },
     "metadata": {},
     "output_type": "display_data"
    }
   ],
   "source": [
    "domest_arrest = chicago_table.groupby([\"Domestic\", \"Arrest\"]).count()\n",
    "\n",
    "sb.set(palette= \"muted\")\n",
    "ax = sb.barplot(x = domest_arrest.index, y = \"Id\", data = domest_arrest)\n",
    "\n",
    "ax.set(ylabel= \"Frequency\", title = \"Crimes by Arrest/Domestic Combination\")\n",
    "ax.set_xticklabels(['Neither', 'Domestic Only', 'Arrest Only', \"Both\"])"
   ]
  },
  {
   "cell_type": "markdown",
   "metadata": {},
   "source": [
    "The majority of crimes seem to be neither domestic nor involve arrests. Let's look at the arrest percentage depending on whether the crime was domestic or not."
   ]
  },
  {
   "cell_type": "code",
   "execution_count": 17,
   "metadata": {
    "ExecuteTime": {
     "end_time": "2020-10-11T16:08:16.309007Z",
     "start_time": "2020-10-11T16:08:16.275062Z"
    }
   },
   "outputs": [
    {
     "name": "stdout",
     "output_type": "stream",
     "text": [
      "percent chance of arrest when the crime is domestic: 50.00000529282054%\n",
      "percent chance of arrest when the crime is NOT domestic: 49.99979887339461\n"
     ]
    }
   ],
   "source": [
    "neither = chicago_table.loc[0, \"Id\"]\n",
    "arrest_only = chicago_table.loc[1, \"Id\"]\n",
    "domestic_only = chicago_table.loc[2, \"Id\"]\n",
    "both = chicago_table.loc[3, \"Id\"]\n",
    "\n",
    "print(\"percent chance of arrest when the crime is domestic: {}%\".format(\n",
    "    both/(both + domestic_only) * 100))\n",
    "print(\"percent chance of arrest when the crime is NOT domestic: {}\".format(\n",
    "    arrest_only/(neither + arrest_only) * 100))\n",
    "\n",
    "del neither, arrest_only, domestic_only, both  # No longer needed, \n"
   ]
  },
  {
   "cell_type": "markdown",
   "metadata": {},
   "source": [
    "Incredible. Whether the crime was domestic or not makes literally no difference. I would not have expected this. \n",
    "\n",
    "Next, let's look at the distribution of crimes by ward/borough"
   ]
  },
  {
   "cell_type": "code",
   "execution_count": 18,
   "metadata": {
    "ExecuteTime": {
     "end_time": "2020-10-11T16:10:19.393877Z",
     "start_time": "2020-10-11T16:10:11.186331Z"
    }
   },
   "outputs": [
    {
     "data": {
      "text/plain": [
       "Text(365.364,0.5,'Number of Crimes per Thousand People')"
      ]
     },
     "execution_count": 18,
     "metadata": {},
     "output_type": "execute_result"
    },
    {
     "data": {
      "image/png": "[encoded data removed]",
      "text/plain": [
       "<Figure size 720x360 with 2 Axes>"
      ]
     },
     "metadata": {},
     "output_type": "display_data"
    }
   ],
   "source": [
    "dist_chicago = chicago_table.groupby(\"Ward\").count()\n",
    "dist_london = london_table.groupby(\"Borough\").sum()\n",
    "\n",
    "# we have to sort for the division (crimes/Ward_and_or_Borough_population) to work.\n",
    "chicago_table.sort_values(\"Ward\", ascending= True, inplace= True)\n",
    "chicago_population_table.sort_values(\"Ward\", ascending= True, inplace= True)\n",
    "\n",
    "london_table.sort_values(\"Borough\", ascending = True, inplace= True)\n",
    "london_population_table.sort_values(\"Name\", ascending= True, inplace= True)\n",
    "\n",
    "\n",
    "# Reseting the index, as otherwise there will be problems when we try to divide by the corresponding\n",
    "# Ward/Borough. Tedious, but it works. \n",
    "dist_london.reset_index(level=0, inplace=True)\n",
    "dist_chicago.reset_index(level=0, inplace=True)\n",
    "chicago_population_table.reset_index(level= 0, inplace= True, drop= True)\n",
    "london_population_table.reset_index(level=0, inplace=True, drop= True)\n",
    "\n",
    "\n",
    "# For Chicago, we use ID, as each row represent one crime, so with count() the choice of column is arbitrary.\n",
    "# We are dividing by three now to get the average for all three years\n",
    "dist_london[\"Value\"] = dist_london[\"Value\"]/3\n",
    "dist_chicago[\"Id\"] = dist_chicago[\"Id\"]/3\n",
    "\n",
    "\n",
    "#  We divide and also multiply by 1000 to get the crimes per 1,000 for all three years averaged.\n",
    "dist_london[\"Value\"] = (dist_london[\"Value\"]/london_population_table[\"Population\"])     * 1000 \n",
    "dist_chicago[\"Id\"] = (dist_chicago[\"Id\"]/chicago_population_table[\"2010_Population\"])      * 1000  \n",
    "\n",
    "# Have to sort again so that the graph will show crimes per area in ascending order.\n",
    "dist_london.sort_values(\"Value\", ascending = True, inplace= True)\n",
    "dist_chicago.sort_values(\"Id\", ascending = True, inplace= True )\n",
    "\n",
    "\n",
    "# Graphing, two barplots in ascending order\n",
    "fig, ax = plt.subplots(1, 2, figsize=(10, 5))\n",
    "fig.tight_layout(pad = 3.0)\n",
    "\n",
    "# Plotting london\n",
    "first_ax = sb.barplot(x = \"Borough\", y= \"Value\", data = dist_london, ax = ax[0], palette= \"PuBuGn_d\")\n",
    "first_ax.set_ybound(0, 250)\n",
    "first_ax.set_title(\"London (Three year average)\")\n",
    "first_ax.set_xticklabels(\"\")\n",
    "first_ax.set_ylabel(\"Number of Crimes per Thousand People\")\n",
    "\n",
    "\n",
    "# plotting Chicago\n",
    "second_ax = sb.barplot(x = \"Ward\", y= \"Id\", data = dist_chicago, ax = ax[1], palette= \"PuBuGn_d\", \n",
    "                       order= dist_chicago[\"Ward\"] )\n",
    "second_ax.set_ybound(0, 250)\n",
    "second_ax.set_title(\"Chicago (Three year average)\")\n",
    "second_ax.set_xticklabels(\"\")\n",
    "second_ax.set_ylabel(\"Number of Crimes per Thousand People\")"
   ]
  },
  {
   "cell_type": "markdown",
   "metadata": {},
   "source": [
    "Looking at the distribution of crimes, it looks like Chicago is generally more crime-filled than London. The most crime filled borough of London is Westminster, and I'm guessing that's because you would see a lot of low-level crimes related to the tourist industry (pickpockets, scams, drinking, traffic and moving violations, etc.). The lowest crime area Borough is London, which is probably because it is so small (about one square mile) and filled with wealthy international businesses.\n",
    "\n",
    "Chicago by contrast, doesn't seem to have any outliers, but is just generally higher overall. London only has 5 boroughs with crimes over 100 while Chicago has about 20 wards above that level. "
   ]
  },
  {
   "cell_type": "markdown",
   "metadata": {},
   "source": [
    "Next, let's compare London and Chicago on three major crime categories: drug crimes, thefts, and murders, all adjusted by poulation."
   ]
  },
  {
   "cell_type": "code",
   "execution_count": 20,
   "metadata": {
    "ExecuteTime": {
     "end_time": "2020-10-11T16:14:19.314132Z",
     "start_time": "2020-10-11T16:14:19.306153Z"
    }
   },
   "outputs": [],
   "source": [
    "# some variables that will prove useful... \n",
    "LONDON_POPULATION = np.sum(london_population_table[\"Population\"])\n",
    "CHICAGO_POPULATION = np.sum(chicago_population_table[\"2010_Population\"])\n",
    "\n",
    "# Also for doing the crimes rates for Chicago, "
   ]
  },
  {
   "cell_type": "code",
   "execution_count": 21,
   "metadata": {
    "ExecuteTime": {
     "end_time": "2020-10-11T16:14:20.257485Z",
     "start_time": "2020-10-11T16:14:19.803582Z"
    }
   },
   "outputs": [
    {
     "data": {
      "text/plain": [
       "Text(0.5,1,'Drug Crimes per Year per Million')"
      ]
     },
     "execution_count": 21,
     "metadata": {},
     "output_type": "execute_result"
    },
    {
     "data": {
      "image/png": "[encoded data removed]",
      "text/plain": [
       "<Figure size 432x288 with 1 Axes>"
      ]
     },
     "metadata": {},
     "output_type": "display_data"
    }
   ],
   "source": [
    "# NARCOTICS/Drugs\n",
    "\n",
    "drug_chicago = chicago_table[chicago_table[\"Primary_Type\"] == \"NARCOTICS\"]\n",
    "drug_london = london_table[london_table[\"Major_Category\"] == \"Drugs\"]\n",
    "\n",
    "drug_chicago = drug_chicago.groupby(\"Year\").count()\n",
    "drug_london = drug_london.groupby(\"Year\").sum()\n",
    "\n",
    "drug_chicago[\"Year\"] = drug_chicago.index\n",
    "drug_london[\"Year\"] = drug_london.index\n",
    "\n",
    "drug_chicago[\"Id\"] = (drug_chicago[\"Id\"]/CHICAGO_POPULATION)   * 1000000 \n",
    "drug_london[\"Value\"] = (drug_london[\"Value\"]/LONDON_POPULATION) * 1000000\n",
    "drug_chicago[\"City\"] = \"Chicago\"\n",
    "drug_london[\"City\"] = \"London\"\n",
    "\n",
    "plotting_df = pd.DataFrame()\n",
    "plotting_df[\"Year\"] = pd.concat([drug_chicago[\"Year\"], drug_london[\"Year\"]], axis = 0)\n",
    "plotting_df[\"City\"] = pd.concat([drug_chicago[\"City\"], drug_london[\"City\"]], axis = 0)\n",
    "plotting_df[\"Crimes\"] = pd.concat([drug_chicago[\"Id\"], drug_london[\"Value\"]], axis = 0)\n",
    "plotting_df.reset_index(inplace= True, drop= True)\n",
    "\n",
    "\n",
    "sb.set(palette= \"Accent\")\n",
    "ax = sb.barplot(x = \"Year\", y= \"Crimes\", hue = \"City\",  data = plotting_df)\n",
    "ax.set_title(\"Drug Crimes per Year per Million\")\n",
    "# sb.barplot(x = \"Year\", y = \"Id\", data = drug_chicago)"
   ]
  },
  {
   "cell_type": "markdown",
   "metadata": {},
   "source": [
    "Chicago overall seems to have more drugs than London, although there was a big drop-off in 2016."
   ]
  },
  {
   "cell_type": "code",
   "execution_count": 22,
   "metadata": {
    "ExecuteTime": {
     "end_time": "2020-10-11T16:15:01.502766Z",
     "start_time": "2020-10-11T16:15:00.853502Z"
    }
   },
   "outputs": [
    {
     "data": {
      "text/plain": [
       "Text(0.5,1,'Thefts Per Year Per Million')"
      ]
     },
     "execution_count": 22,
     "metadata": {},
     "output_type": "execute_result"
    },
    {
     "data": {
      "image/png": "[encoded data removed]",
      "text/plain": [
       "<Figure size 432x288 with 1 Axes>"
      ]
     },
     "metadata": {},
     "output_type": "display_data"
    }
   ],
   "source": [
    "# Thefts\n",
    "theft_chicago = chicago_table[chicago_table[\"Primary_Type\"] == \"THEFT\"]\n",
    "theft_london = london_table[london_table[\"Major_Category\"] == \"Theft and Handling\"]\n",
    "\n",
    "theft_chicago = theft_chicago.groupby(\"Year\").count()\n",
    "theft_london = theft_london.groupby(\"Year\").sum()\n",
    "\n",
    "theft_chicago[\"Year\"] = theft_chicago.index\n",
    "theft_london[\"Year\"] = theft_london.index\n",
    "\n",
    "theft_chicago[\"Id\"] = (theft_chicago[\"Id\"]/CHICAGO_POPULATION)   * 1000000 \n",
    "theft_london[\"Value\"] = (theft_london[\"Value\"]/LONDON_POPULATION) * 1000000\n",
    "theft_chicago[\"City\"] = \"Chicago\"\n",
    "theft_london[\"City\"] = \"London\"\n",
    "\n",
    "plotting_df = pd.DataFrame()\n",
    "plotting_df[\"Year\"] = pd.concat([theft_chicago[\"Year\"], theft_london[\"Year\"]], axis = 0)\n",
    "plotting_df[\"City\"] = pd.concat([theft_chicago[\"City\"], theft_london[\"City\"]], axis = 0)\n",
    "plotting_df[\"Crimes\"] = pd.concat([theft_chicago[\"Id\"], theft_london[\"Value\"]], axis = 0)\n",
    "plotting_df.reset_index(inplace= True, drop= True)\n",
    "\n",
    "\n",
    "sb.set(palette= \"cool\")\n",
    "ax = sb.barplot(x = \"Year\", y= \"Crimes\", hue = \"City\",  data = plotting_df)\n",
    "ax.set_title(\"Thefts Per Year Per Million\")"
   ]
  },
  {
   "cell_type": "markdown",
   "metadata": {},
   "source": [
    "London has more thefts than Chicago, which I did not expect. The most likely explanation is that London sees far more international tourists every year than Chicago, and tourists are far more likely to be pickpocketed than the average person."
   ]
  },
  {
   "cell_type": "code",
   "execution_count": 23,
   "metadata": {
    "ExecuteTime": {
     "end_time": "2020-10-11T16:15:45.109560Z",
     "start_time": "2020-10-11T16:15:44.586957Z"
    }
   },
   "outputs": [
    {
     "data": {
      "text/plain": [
       "Text(0.5,1,'Homicides Per Year Per Million')"
      ]
     },
     "execution_count": 23,
     "metadata": {},
     "output_type": "execute_result"
    },
    {
     "data": {
      "image/png": "[encoded data removed]",
      "text/plain": [
       "<Figure size 432x288 with 1 Axes>"
      ]
     },
     "metadata": {},
     "output_type": "display_data"
    }
   ],
   "source": [
    "# Homicide\n",
    "murder_chicago = chicago_table[chicago_table[\"Primary_Type\"] == \"HOMICIDE\"]\n",
    "murder_london = london_table[np.logical_and(london_table[\"Major_Category\"] == \"Violence Against the Person\", \n",
    "                                          london_table[\"Minor_Category\"] == \"Murder\")]\n",
    "\n",
    "murder_chicago = murder_chicago.groupby(\"Year\").count()\n",
    "murder_london = murder_london.groupby(\"Year\").sum()\n",
    "\n",
    "murder_chicago[\"Year\"] = murder_chicago.index\n",
    "murder_london[\"Year\"] = murder_london.index\n",
    "\n",
    "murder_chicago[\"Id\"] = (murder_chicago[\"Id\"]/CHICAGO_POPULATION)   * 1000000 \n",
    "murder_london[\"Value\"] = (murder_london[\"Value\"]/LONDON_POPULATION) * 1000000\n",
    "murder_chicago[\"City\"] = \"Chicago\"\n",
    "murder_london[\"City\"] = \"London\"\n",
    "\n",
    "plotting_df = pd.DataFrame()\n",
    "plotting_df[\"Year\"] = pd.concat([murder_chicago[\"Year\"], murder_london[\"Year\"]], axis = 0)\n",
    "plotting_df[\"City\"] = pd.concat([murder_chicago[\"City\"], murder_london[\"City\"]], axis = 0)\n",
    "plotting_df[\"Crimes\"] = pd.concat([murder_chicago[\"Id\"], murder_london[\"Value\"]], axis = 0)\n",
    "plotting_df.reset_index(inplace= True, drop= True)\n",
    "\n",
    "\n",
    "sb.set(palette= \"jet_r\")\n",
    "ax = sb.barplot(x = \"Year\", y= \"Crimes\", hue = \"City\",  data = plotting_df)\n",
    "ax.set_title(\"Homicides Per Year Per Million\")\n",
    "# sb.barplot(x = \"Year\", y = \"Id\", data = drug_chicago)"
   ]
  },
  {
   "cell_type": "markdown",
   "metadata": {},
   "source": [
    "Chicago has more than 10x the murder rate of london, with the problem growing worse in 2015 and 2016. For all the hysteria over how London is \"stab city\" Chicago is actually a far more dangerous place to live\n",
    "\n",
    "One other aspect of this is that homicides in Chicago typical follow a seasonal pattern, spiking in the Summer along with increases in gang violence (which is the major driver of homicides). Let's see if there is a similar seasonal pattern in London. \n",
    "\n",
    "Also, this is a great example of why DateTime is so useful, as it makes looking at seasonal trends very easy."
   ]
  },
  {
   "cell_type": "code",
   "execution_count": 16,
   "metadata": {},
   "outputs": [
    {
     "data": {
      "text/plain": [
       "<matplotlib.patches.Polygon at 0x28d0ed30f98>"
      ]
     },
     "execution_count": 16,
     "metadata": {},
     "output_type": "execute_result"
    },
    {
     "data": {
      "image/png": "[encoded data removed]",
      "text/plain": [
       "<Figure size 432x288 with 1 Axes>"
      ]
     },
     "metadata": {},
     "output_type": "display_data"
    }
   ],
   "source": [
    "# Homicide, seasonal\n",
    "\n",
    "murder_chicago = chicago_table[chicago_table[\"Primary_Type\"] == \"HOMICIDE\"]\n",
    "murder_london = london_table[np.logical_and(london_table[\"Major_Category\"] == \"Violence Against the Person\", \n",
    "                                          london_table[\"Minor_Category\"] == \"Murder\")]\n",
    "\n",
    "\n",
    "# For this one, we extract year and month from the DateTime objects stored in the Date column. \n",
    "murder_chicago = murder_chicago.groupby([chicago_table['Date'].dt.year, \n",
    "                                       chicago_table['Date'].dt.month]).count()\n",
    "murder_london = murder_london.groupby([\"Year\", \"Month\"]).sum()\n",
    "\n",
    "murder_chicago.reset_index(inplace= True, drop= True)\n",
    "murder_london.reset_index(inplace = True, drop = True)\n",
    "\n",
    "murder_chicago[\"Time\"] = murder_chicago.index\n",
    "murder_london[\"Time\"] = murder_london.index\n",
    "\n",
    "murder_chicago[\"Id\"] = (murder_chicago[\"Id\"]/CHICAGO_POPULATION)   * 1000000         \n",
    "murder_london[\"Value\"] = (murder_london[\"Value\"]/LONDON_POPULATION) * 1000000\n",
    "murder_chicago[\"City\"] = \"Chicago\"\n",
    "murder_london[\"City\"] = \"London\"\n",
    "\n",
    "special_df = pd.DataFrame()\n",
    "special_df[\"Time\"] = pd.concat([murder_chicago[\"Time\"], murder_london[\"Time\"]], axis = 0)\n",
    "special_df[\"City\"] = pd.concat([murder_chicago[\"City\"], murder_london[\"City\"]], axis = 0)\n",
    "special_df[\"Crimes\"] = pd.concat([murder_chicago[\"Id\"], murder_london[\"Value\"]], axis = 0)\n",
    "special_df.reset_index(inplace= True, drop= True)\n",
    "\n",
    "\n",
    "sb.set(palette= \"Accent\")\n",
    "ax = sb.lineplot(x = \"Time\", y= \"Crimes\", hue = \"City\",  data = special_df)\n",
    "ax.set_title(\"Seasonal homicide trends\")\n",
    "ax.set_xlabel(\"Months since January, 2014\")\n",
    "ax.set_ylabel(\"Murders per Month per Million\")\n",
    "ax.axvspan(6, 8, alpha=0.3, color='red')\n",
    "ax.axvspan(18, 20, alpha=0.3, color='red')\n",
    "ax.axvspan(30, 32, alpha=0.3, color='red')"
   ]
  },
  {
   "cell_type": "markdown",
   "metadata": {},
   "source": [
    "Just eyeballing it, there is no seasonal pattern for London, but for Chicago, we can see some spikes during June, July, and August (indicated in red). It would be interesting to compare the spikes with meterological data from those years to see if there is a homicide/heat correlation, but we do not have that data."
   ]
  },
  {
   "cell_type": "markdown",
   "metadata": {},
   "source": [
    "# Conclusion\n",
    "\n",
    "\n",
    "Exploring the dataset has been great, and we have only scratched the surface in terms of global crime trends and sociological facors that contribute to crime. \n",
    "\n",
    "One interesting follow-up might be to look at rates of sexual harassment/assault, as these crimes are notoriously under-reported. If non-sex crimes in an area are very high, but sex-crimes are very low, that may be statistical evidence of under-reporting, and we might try to extrapolate the actual sex-assault rate. Another follow-up possibility would be integrating these crime datasets with other city datasets to look for interesting trends (such as tourism, wealth/income, pollution, etc.)."
   ]
  },
  {
   "cell_type": "code",
   "execution_count": null,
   "metadata": {},
   "outputs": [],
   "source": []
  }
 ],
 "metadata": {
  "kernelspec": {
   "display_name": "Python 3",
   "language": "python",
   "name": "python3"
  },
  "language_info": {
   "codemirror_mode": {
    "name": "ipython",
    "version": 3
   },
   "file_extension": ".py",
   "mimetype": "text/x-python",
   "name": "python",
   "nbconvert_exporter": "python",
   "pygments_lexer": "ipython3",
   "version": "3.6.6"
  },
  "varInspector": {
   "cols": {
    "lenName": 16,
    "lenType": 16,
    "lenVar": 40
   },
   "kernels_config": {
    "python": {
     "delete_cmd_postfix": "",
     "delete_cmd_prefix": "del ",
     "library": "var_list.py",
     "varRefreshCmd": "print(var_dic_list())"
    },
    "r": {
     "delete_cmd_postfix": ") ",
     "delete_cmd_prefix": "rm(",
     "library": "var_list.r",
     "varRefreshCmd": "cat(var_dic_list()) "
    }
   },
   "position": {
    "height": "387.12px",
    "left": "105.79px",
    "right": "20px",
    "top": "69px",
    "width": "651.44px"
   },
   "types_to_exclude": [
    "module",
    "function",
    "builtin_function_or_method",
    "instance",
    "_Feature"
   ],
   "window_display": false
  }
 },
 "nbformat": 4,
 "nbformat_minor": 2
}
